{
 "cells": [
  {
   "cell_type": "markdown",
   "metadata": {},
   "source": [
    "# After-Class Exercises #7 for Monday, Sep. 20 Class\n",
    "## Due Tuesday, Sep. 21 at 11:59 PM"
   ]
  },
  {
   "cell_type": "markdown",
   "metadata": {
    "nbgrader": {
     "grade": false,
     "grade_id": "cell-1a642bf418b55132",
     "locked": true,
     "schema_version": 3,
     "solution": false,
     "task": false
    }
   },
   "source": [
    "## Exercise 1a"
   ]
  },
  {
   "cell_type": "markdown",
   "metadata": {
    "nbgrader": {
     "grade": false,
     "grade_id": "cell-732d549bfac2118b",
     "locked": true,
     "schema_version": 3,
     "solution": false,
     "task": false
    }
   },
   "source": [
    "Create a function called `GreatCPA` that takes zero arguments and _returns_, but does not print, the string \"Today is a great day to be a CPA!\". "
   ]
  },
  {
   "cell_type": "code",
   "execution_count": 1,
   "metadata": {
    "nbgrader": {
     "grade": false,
     "grade_id": "cell-cbc71250d4a1719b",
     "locked": false,
     "schema_version": 3,
     "solution": true,
     "task": false
    }
   },
   "outputs": [
    {
     "name": "stdout",
     "output_type": "stream",
     "text": [
      "Today is a great day to be a CPA!\n"
     ]
    }
   ],
   "source": [
    "# write your code here\n",
    "def GreatCPA():\n",
    "    return f'Today is a great day to be a CPA!'\n"
   ]
  },
  {
   "cell_type": "markdown",
   "metadata": {
    "nbgrader": {
     "grade": false,
     "grade_id": "cell-07293533403cf56a",
     "locked": true,
     "schema_version": 3,
     "solution": false,
     "task": false
    }
   },
   "source": [
    "## Exercise 1b"
   ]
  },
  {
   "cell_type": "markdown",
   "metadata": {
    "nbgrader": {
     "grade": false,
     "grade_id": "cell-599668e0d50dafc2",
     "locked": true,
     "schema_version": 3,
     "solution": false,
     "task": false
    }
   },
   "source": [
    "Create a function that adds sales tax (9%) to a sales price. Call this function `AddTax`. The function should take one argument, and *return* that argument plus 9%. Test your function by creating a variable called `price` and setting it equal to 19.95. Your function should return the sales price plus 9% of the sales price, or 21.7455. "
   ]
  },
  {
   "cell_type": "code",
   "execution_count": 2,
   "metadata": {
    "nbgrader": {
     "grade": false,
     "grade_id": "cell-efbae31abf12f221",
     "locked": false,
     "schema_version": 3,
     "solution": true,
     "task": false
    }
   },
   "outputs": [
    {
     "name": "stdout",
     "output_type": "stream",
     "text": [
      "21.7455\n"
     ]
    }
   ],
   "source": [
    "# write your code here\n",
    "def AddTax(x):\n",
    "    x = x*(1+0.09)\n",
    "    return x\n",
    "price = 19.95\n",
    "AddTax (price)\n",
    "\n"
   ]
  },
  {
   "cell_type": "markdown",
   "metadata": {
    "nbgrader": {
     "grade": false,
     "grade_id": "cell-ad53eb191b21d34b",
     "locked": true,
     "schema_version": 3,
     "solution": false,
     "task": false
    }
   },
   "source": [
    "## Exercise 2"
   ]
  },
  {
   "cell_type": "markdown",
   "metadata": {
    "nbgrader": {
     "grade": false,
     "grade_id": "cell-5d57acc0062c4e13",
     "locked": true,
     "schema_version": 3,
     "solution": false,
     "task": false
    }
   },
   "source": [
    "One popular module for Python is called `math`. Within the `math` module is a function called `ceil`. This function takes one argument, `x`, and returns the ceiling of `x`, which is the smallest integer that is greater than or equal to `x`. For example, `ceil(99.95)` would return 100. \n",
    "\n",
    "In the cell below, we created a list of numbers, `myList`. Use a for-loop and a range object to iterate over `myList` and replace each list element with its ceiling. Use the function `math.ceil` to accomplish this. (For example, if `myList` initially contains `[3.2, 4.8, -2.7]`, then after your code runs, myList should be `[4, 5, -2]`. Be sure to include code that imports the proper module or functions. "
   ]
  },
  {
   "cell_type": "code",
   "execution_count": 33,
   "metadata": {
    "nbgrader": {
     "grade": false,
     "grade_id": "cell-c44dc0f1b89aee87",
     "locked": false,
     "schema_version": 3,
     "solution": true,
     "task": false
    },
    "scrolled": true
   },
   "outputs": [
    {
     "name": "stdout",
     "output_type": "stream",
     "text": [
      "[104, -22, 11]\n"
     ]
    }
   ],
   "source": [
    "myList = [103.5, -22.6, 10.95]\n",
    "\n",
    "# Write your code below this line\n",
    "# Don't forget to import the necessary library\n",
    "import math\n",
    "\n",
    "\n",
    "myList = [math.ceil(x) for x in myList]\n",
    "\n",
    "\n",
    "\n",
    "# You may use the code below to see if your code worked.\n",
    "print(myList)"
   ]
  },
  {
   "cell_type": "markdown",
   "metadata": {
    "nbgrader": {
     "grade": false,
     "grade_id": "cell-7ba30d2959d4ea0b",
     "locked": true,
     "schema_version": 3,
     "solution": false,
     "task": false
    }
   },
   "source": [
    "## Exercise 3"
   ]
  },
  {
   "cell_type": "markdown",
   "metadata": {
    "nbgrader": {
     "grade": false,
     "grade_id": "cell-68ebae37f8437313",
     "locked": true,
     "schema_version": 3,
     "solution": false,
     "task": false
    }
   },
   "source": [
    "`statistics` is another popular package for Python. As the name implies, this package is great for most statistical calculations. Below is a list of closing stock prices for Apple during the month of August 2019, stored in the list `AAPL`.\n",
    "\n",
    "Create a dictionary called `AAPLstock`. The dictionary should have two keys:\n",
    "1. The key `AAPLmean`. Its value should be the mean of the Apple stock prices. Use the function `statistics.mean` to compute this value.\n",
    "2. The key `AAPLmedian`. Its value should be the median of the Apple stock prices. Use the function `statistics.median` to compute this value."
   ]
  },
  {
   "cell_type": "code",
   "execution_count": 38,
   "metadata": {
    "nbgrader": {
     "grade": false,
     "grade_id": "cell-860d3d38dab6d59b",
     "locked": false,
     "schema_version": 3,
     "solution": true,
     "task": false
    }
   },
   "outputs": [],
   "source": [
    "AAPL = [207.64, 203.25, 192.61, 196.25, 198.29, 202.66, 200.99, 200.48, 208.97, 202.75, 201.74, 206.50, 210.35, 210.36, 212.64, 212.46, 202.64, 206.49, 204.16, 205.53, 209.01, 208.74]\n",
    "\n",
    "import statistics as st\n",
    "# write your code here\n",
    "AAPLstock = {'AAPLmean': st.mean(AAPL), 'AAPLmedian': st.median(AAPL)}\n",
    "\n"
   ]
  },
  {
   "cell_type": "code",
   "execution_count": null,
   "metadata": {},
   "outputs": [],
   "source": []
  }
 ],
 "metadata": {
  "celltoolbar": "Create Assignment",
  "kernelspec": {
   "display_name": "Python 3 (ipykernel)",
   "language": "python",
   "name": "python3"
  },
  "language_info": {
   "codemirror_mode": {
    "name": "ipython",
    "version": 3
   },
   "file_extension": ".py",
   "mimetype": "text/x-python",
   "name": "python",
   "nbconvert_exporter": "python",
   "pygments_lexer": "ipython3",
   "version": "3.9.5"
  }
 },
 "nbformat": 4,
 "nbformat_minor": 4
}
