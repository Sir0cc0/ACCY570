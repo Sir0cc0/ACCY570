{
 "cells": [
  {
   "cell_type": "markdown",
   "metadata": {},
   "source": [
    "# Problem Set 1, ACCY 570, Fall 2020"
   ]
  },
  {
   "cell_type": "markdown",
   "metadata": {
    "nbgrader": {
     "grade": false,
     "grade_id": "cell-d7ce2b158adf3dac",
     "locked": true,
     "schema_version": 3,
     "solution": false,
     "task": false
    }
   },
   "source": [
    "## Problem 1 (6 points)"
   ]
  },
  {
   "cell_type": "markdown",
   "metadata": {
    "nbgrader": {
     "grade": false,
     "grade_id": "cell-5b0a4e82dfb6b56e",
     "locked": true,
     "schema_version": 3,
     "solution": false,
     "task": false
    }
   },
   "source": [
    "### Part A (2.5 points)"
   ]
  },
  {
   "cell_type": "markdown",
   "metadata": {
    "nbgrader": {
     "grade": false,
     "grade_id": "cell-6ec8b87b24582973",
     "locked": true,
     "schema_version": 3,
     "solution": false,
     "task": false
    }
   },
   "source": [
    "In your prior accounting classes, you may have learned about the <b>DuPont Framework</b>. The DuPont Framework is a basis for analyzing the financial information of a company. Specifically, the DuPont Framework examines the Return on Equity (ROE) ratio and breaks it into components measuring Profitability (using Profit Margin or PM), Activity or Efficiency (using Asset Turnover or AT), and Financial Leverage (using the Equity Multiplier or EM). Return on Assets (ROA) is another important ratio that measures how efficiently the company is using its assets to generate income. \n",
    "\n",
    "The relation of these ratios is:\n",
    "<ul>\n",
    "    <li>ROA = PM * AT</li>\n",
    "    <li>ROE = ROA * EM </li>\n",
    "    <li>ROE = PM * AT * EM  </li>\n",
    "</ul>\n",
    "    \n",
    "The calculations and relationships for all of these ratios can be seen in the graphic below. \n",
    "\n",
    "![](DuPontFramework.png)\n",
    "\n",
    "<b>Note</b>: Some of these ratios use AVERAGE amounts, *meaning you take the sum of the beginning and ending balances and divide that sum by two.*  \n",
    "\n",
    "Below you will find the financial information for Walt Disney Co, which has been compiled from the 2018 10-K found at SEC.gov. \n",
    "\n",
    "### Walt Disney Co (in millions)\n",
    "\n",
    "<table align=left style=\"width:30%\">\n",
    "<tr>\n",
    "    <th> </th>\n",
    "    <th>2018</th>\n",
    "    <th>2017</th>\n",
    "</tr>\n",
    "<tr>\n",
    "    <td><b>Net Income</b></td>\n",
    "    <td>13,066</td>\n",
    "    <td>9,366</td>\n",
    "</tr>\n",
    "<tr>\n",
    "    <td><b>Total Equity</b></td>\n",
    "    <td>52,832</td>\n",
    "    <td>45,004</td>\n",
    "</tr>\n",
    "<tr>\n",
    "    <td><b>Sales</b></td>\n",
    "    <td>59,434</td>\n",
    "    <td>55,137</td>\n",
    "</tr>\n",
    "<tr>\n",
    "    <td><b>Total Assets</b></td>\n",
    "    <td>98,598</td>\n",
    "    <td>95,789</td>\n",
    "</tr>\n",
    "</table>\n",
    "<br><br><br><br><br><br><br><br><br><br>\n",
    "\n",
    "<b>Step 1</b>: Create variables `NI`, `AveEq`, `Sales`, and `AveAsset` for the corresponding 2018 net income (`NI`), average total equity (`AveEq`), sales (`Sales`), and average total assets (`AveAsset`).\n",
    "\n",
    "<b>Step 2</b>: Use the variables `NI`, `AveEq`, `Sales`, and `AveAsset` (not the numbers/values!) to calculate `PM`, `AT`, `EM`, `ROE`, and `ROA`."
   ]
  },
  {
   "cell_type": "code",
   "execution_count": 1,
   "metadata": {
    "nbgrader": {
     "grade": false,
     "grade_id": "cell-77aac2400e0297c0",
     "locked": false,
     "schema_version": 3,
     "solution": true,
     "task": false
    }
   },
   "outputs": [
    {
     "name": "stdout",
     "output_type": "stream",
     "text": [
      "Profit Margin is 0.22\n",
      "Asset Turnover is 0.61\n",
      "Equity Multipler is 1.99\n",
      "Return on Equity is 0.27\n",
      "Return on Assets is 0.13\n"
     ]
    }
   ],
   "source": [
    "#write your code above the print statements\n",
    "NI = 13066\n",
    "AveEq = (52832+45004)/2\n",
    "Sales = 59434\n",
    "AveAsset = (98598+95789)/2\n",
    "\n",
    "PM = NI / Sales\n",
    "AT = Sales / AveAsset\n",
    "EM = AveAsset / AveEq\n",
    "ROE = NI / AveEq\n",
    "ROA = NI / AveAsset\n",
    "print(f'Profit Margin is {round(PM,2)}')\n",
    "print(f'Asset Turnover is {round(AT,2)}')\n",
    "print(f'Equity Multipler is {round(EM,2)}')\n",
    "print(f'Return on Equity is {round(ROE,2)}')\n",
    "print(f'Return on Assets is {round(ROA,2)}')\n"
   ]
  },
  {
   "cell_type": "markdown",
   "metadata": {
    "nbgrader": {
     "grade": false,
     "grade_id": "cell-9f1df72d6ec0d641",
     "locked": true,
     "schema_version": 3,
     "solution": false,
     "task": false
    }
   },
   "source": [
    "### Part B (2.5 points)"
   ]
  },
  {
   "cell_type": "markdown",
   "metadata": {
    "nbgrader": {
     "grade": false,
     "grade_id": "cell-61b0d2e50d2f6c1a",
     "locked": true,
     "schema_version": 3,
     "solution": false,
     "task": false
    }
   },
   "source": [
    "One useful thing about using variables is that you can change a variable's value and re-run your code. Every time you reference the variable it will use the updated number. Below you will find the financial information for Netflix Inc., which has been compiled from the 2018 10-K found at SEC.gov. If you want to calculate the ratios for Netflix instead of Disney. You can just replace the values for the four variables you created earlier (`NI`, `AveEq`, `Sales`, and `AveAsset`) instead of creating the ratio calculations all over again. \n",
    "\n",
    "### Netflix (in millions)\n",
    "<table align=left style=\"width:30%\">\n",
    "<tr>\n",
    "    <th> </th>\n",
    "    <th>2018</th>\n",
    "    <th>2017</th>\n",
    "</tr>\n",
    "<tr>\n",
    "    <td><b>Net Income</b></td>\n",
    "    <td>1,211</td>\n",
    "    <td>559</td>\n",
    "</tr>\n",
    "<tr>\n",
    "    <td><b>Total Equity</b></td>\n",
    "    <td>5,239</td>\n",
    "    <td>3,582</td>\n",
    "</tr>\n",
    "<tr>\n",
    "    <td><b>Sales</b></td>\n",
    "    <td>15,794</td>\n",
    "    <td>11,693</td>\n",
    "</tr>\n",
    "<tr>\n",
    "    <td><b>Total Assets</b></td>\n",
    "    <td>25,974</td>\n",
    "    <td>19,013</td>\n",
    "</tr>\n",
    "</table>\n",
    "<br><br><br><br><br><br><br><br><br><br>\n",
    "\n",
    "<b>Step 1:</b> Copy all of the code you wrote for Part A including the print statements and paste it in the code cell below. \n",
    "\n",
    "<b>Step 2:</b> Replace Disney's financial information with Netflix's financial information for `NI`, `AveEq`, `Sales`, and `AveAsset` and run the cell. You should now have the updated ratios for Netflix! This is much faster than re-calculating all of the individual ratios using the new Netflix values. \n",
    "\n",
    "It is important to remember that after you run the below code cell, the variable values are changed and no longer calculate Disney's ratios. "
   ]
  },
  {
   "cell_type": "code",
   "execution_count": 2,
   "metadata": {
    "nbgrader": {
     "grade": false,
     "grade_id": "cell-9bcf81e2d69265db",
     "locked": false,
     "schema_version": 3,
     "solution": true,
     "task": false
    }
   },
   "outputs": [
    {
     "name": "stdout",
     "output_type": "stream",
     "text": [
      "Profit Margin is 0.08\n",
      "Asset Turnover is 0.7\n",
      "Equity Multipler is 5.1\n",
      "Return on Equity is 0.27\n",
      "Return on Assets is 0.05\n"
     ]
    }
   ],
   "source": [
    "# Write your code here\n",
    "NI = 1211\n",
    "AveEq = (5239+3582)/2\n",
    "Sales = 15794\n",
    "AveAsset = (25974+19013)/2\n",
    "\n",
    "PM = NI / Sales\n",
    "AT = Sales / AveAsset\n",
    "EM = AveAsset / AveEq\n",
    "ROE = NI / AveEq\n",
    "ROA = NI / AveAsset\n",
    "print(f'Profit Margin is {round(PM,2)}')\n",
    "print(f'Asset Turnover is {round(AT,2)}')\n",
    "print(f'Equity Multipler is {round(EM,2)}')\n",
    "print(f'Return on Equity is {round(ROE,2)}')\n",
    "print(f'Return on Assets is {round(ROA,2)}')\n"
   ]
  },
  {
   "cell_type": "markdown",
   "metadata": {
    "nbgrader": {
     "grade": false,
     "grade_id": "cell-80071e39f1b51918",
     "locked": true,
     "schema_version": 3,
     "solution": false,
     "task": false
    }
   },
   "source": [
    "### Part C (1 point)"
   ]
  },
  {
   "cell_type": "markdown",
   "metadata": {
    "nbgrader": {
     "grade": false,
     "grade_id": "cell-ffbd29aa56991d9e",
     "locked": true,
     "schema_version": 3,
     "solution": false,
     "task": false
    }
   },
   "source": [
    "Briefly compare the ratios for Walt Disney Co. and Netflix Inc. Which company is performing better on each metric? Which company would you choose to invest in?"
   ]
  },
  {
   "cell_type": "markdown",
   "metadata": {
    "nbgrader": {
     "grade": true,
     "grade_id": "cell-c8988127c6e03c9a",
     "locked": false,
     "points": 2,
     "schema_version": 3,
     "solution": true,
     "task": false
    }
   },
   "source": [
    "Write your answer in this cell. (Double-click on the cell to begin typing.) \n",
    "\n",
    "Disney has higher profit margin and ROA by a margin. ROE, however, is the same for both companies. Netflix's EM is 6 times higher than that of Disney and AT is slightly higher. I would choose to invest in Walt Disney Co. because of the higher profit margin and ROA, which are crucial indicators for investors."
   ]
  },
  {
   "cell_type": "markdown",
   "metadata": {
    "nbgrader": {
     "grade": false,
     "grade_id": "cell-4f68a1be05d0abbd",
     "locked": true,
     "schema_version": 3,
     "solution": false,
     "task": false
    }
   },
   "source": [
    "## Problem 2 (8 points)"
   ]
  },
  {
   "cell_type": "markdown",
   "metadata": {
    "nbgrader": {
     "grade": false,
     "grade_id": "cell-0f3503f3193ac879",
     "locked": true,
     "schema_version": 3,
     "solution": false,
     "task": false
    }
   },
   "source": [
    "### Part A (4 points)"
   ]
  },
  {
   "cell_type": "markdown",
   "metadata": {
    "nbgrader": {
     "grade": false,
     "grade_id": "cell-98a6c70b8f59057a",
     "locked": true,
     "schema_version": 3,
     "solution": false,
     "task": false
    }
   },
   "source": [
    "The accounting software used by your company provides lists of transaction data. Recall that a list is a collection of data. The `PPE` list contains all of the transactions that impacted net property, plant, and equipment during the year. For example, lets say that during the month of March a company purchased 4 PPE assets, sold 1 PPE asset and recorded depreciation. This list might look like this: `[16500, 26800, -12100, 4500, 1200, -940]` Positive numbers are increases to the PPE account (purchases) while negative numbers are decreases to the PPE account (sales/disposals and depreciation, credits). Your company has hundreds of property, plant, and equipment transactions. \n",
    "\n",
    "On January 1, 2018, your company's beginning net PPE balance was 153,259,800. The list `PPE` contains all of the transactions that impacted net property plant and equipment from January 1, 2018 - December 31, 2018. Create a `for` loop to add together all of the items in the list `PPE`. Then use this amount to determine what the balance in the  property plant and equipment account should be at year end, December 31, 2018. Begin by creating a new variable called `TotalPPE` and set this variable equal to the January 1, 2018 net PPE balance. \n",
    "\n",
    "Hints: \n",
    "* Don't forget the beginning balance.\n",
    "* There is a built-in Python function `sum` that sums all the values in a list. *Do not use the `sum` function*. I want you to use a `for` loop."
   ]
  },
  {
   "cell_type": "code",
   "execution_count": 66,
   "metadata": {
    "nbgrader": {
     "grade": true,
     "grade_id": "cell-85d5d5951593775c",
     "locked": false,
     "points": 1,
     "schema_version": 3,
     "solution": true,
     "task": false
    }
   },
   "outputs": [],
   "source": [
    "PPE = [-22539, 58277, -37200, 175266, -21190, 196703, -18602, 28397, -3930, 72834, -21950, 59524, -81455, 159818, -15153, 184817, -11735, 125546, -48940, 61842, -4040, 189576, -52440, 202492, -72940, 38672, -46665, 211867, -52622, 91019, -7493, 189396, -17674, 12996, -90662, 34238, -1039, 50129, -85925, 151490, -45103, 195492, -64262, 131286, -71670, 69421, -79086, 14746, -68040, 1192, -1464, 65744, -20009, 108266, -2180, 36552, -32306, 200143, -93251, 135208, -47952, 45909, -36622, 11050, -76950, 194407, -25449, 114523, -1892, 181922, -68481, 65576, -40299, 90624, -29056, 187805, -66884, 216007, -70900, 158298, -28571, 202276, -25732, 29617, -45545, 32456, -54432, 207845, -26555, 6940, -23139, 148227, -89361, 58481, -852, 64905, -7211, 154956, -83158, 47218, -78610, 115800, -74330, 77952, -97365, 13067, -83960, 10876, -90081, 199701, -68470, 44969, -35111, 185183, -16652, 173690, -93365, 154564, -32999, 135402, -93423, 162019, -46151, 48584, -76686, 58141, -54318, 200313, -38216, 129800, -95512, 57951, -43739, 146439, -55927, 52886, -43033, 52193, -31570, 205183, -38023, 119703, -56562, 189751, -90053, 128482, -36424, 167294, -25526, 39814, -35817, 73829, -1815, 48237, -60875, 10648, -75051, 165610, -12698, 52446, -30248, 62237, -46072, 133884, -94009, 125122, -55787, 177200, -84981, 125989, -34969, 16154, -79102, 94949, -83409, 91310, -31397, 137941, -43424, 211633, -43968, 28226, -88355, 53794, -32917, 197129, -31868, 34573, -33590, 156866, -52204, 20947, -8935, 209248, -152, 212381, -56517, 181878, -67313, 57700, -44306, 201283, -53023, 19717, -87394, 168634, -34046, 191921, -98096, 1146, -99095, 40853, -97389, 56813, -81819, 51820, -94988, 186958, -98891, 78155, -42506, 173296, -96712, 56396, -8345, 164825, -1496, 177074, -18245, 96532, -71107, 162260, -87899, 66174, -54405, 20489, -99474, 138834, -45493, 179035, -37491, 70274, -12897, 31858, -89567, 22426, -73865, 53029, -75060, 133860, -61722, 94041, -15008, 87053, -18456, 116469, -1949, 164045, -52308, 99685, -9287, 172167, -69657, 187134, -33348, 125776, -205, 22323, -39282, 36152, -26873, 77939, -27537, 98751, -64218, 16237, -15409, 68246, -81272, 24894, -40621, 194666, -55764, 121241, -50623, 10998, -75941, 130110, -96753, 14193, -32542, 31745, -60284, 56195, -45898, 45460, -41886, 129493, -55926, 125524, -95222, 190852, -101257, 163932, -12391, 15180, -82841, 178115, -28532, 148755, -6405, 187728, -64142, 207030, -19614, 82287, -74544, 14245, -12318, 66396, -75052, 115794, -64076, 48879, -54962, 179646, -101104, 16994, 1001, 185545, -3187, 171134, -23074, 191375, -71597, 20816, -39849, 83390, -16754, 81620, -90839, 68791, -13831, 149583, -28015, 117131, -75746, 138740, -15043, 79956, -17761, 191878, -54947, 83025, -27730, 82219, -92496, 205132, -18524, 197165, -23968, 125904, -7346, 182278, -40486, 194771, -25584, 194584, -90759, 85593, -77022, 155618, -59144, 170886, -79684, 40539, -94108, 195137, -53776, 194033, -30182, 26718, -26202, 219311, -87418, 216919, -60335, 96389, -53397, 163020, -76604, 32151, -4111, 31031, -31311, 94935, -1155, 29956, -89950, 217196, -42927, 38705, -63183, 59292, -87623, 126191, -9940, 15680, -11527, 130501, -45067, 88279, -42897, 65624, -16716, 217531, -30742, 161373, -20507, 62046, -75490, 196641, -61924, 155539, -30917, 31568, -49553, 141744, -93759, 126344, -24898, 61678, -6283, 740, -92732, 139835, -12411, 97514, -33452, 47871, -1621, 151260, -38330, 132979, -23819, 88711, -95872, 107820, -57455, 56803, -49569, 46390, -13003, 207725, -35847, 131029, -27074, 104243, -38450, 102801, -4972, 79907, -66635, 845, -19224, 36368, -22575, 10038, -45555, 111781, -90100, 188538, -59635, 207589, -7423, 93927, -36960, 172902, -95844, 59711, -63162, 203426, -72370, 9998, -38485, 15487, -93410, 20858, -35869, 38652, -83962, 145898, -48632, 209863, -95480, 56492, -77630, 31383, -78281, 63659, -19043, 67594, -16716, 167551, -8423, 148273, -21924, 138260, -71590, 29244, -94465, 118668, -85585, 104588, -10920, 78313, -20161, 111274, -96246, 99521, -39722, 45339, -99084, 45807, -77654, 131053, -53029, 102856, -6356, 134989, -47484, 141981, -23306, 124593, -58243, 96724, -21726, 160348, -67882, 51659, -64347, 140343, -91111, 212797, -63234, 174227, -94124, 21226, -89996, 31426, -97328, 172178, -76196, 217910, -28788, 102880, -78973, 154967, -17649, 87644, -73727, 107348, -17454, 87275, -67258, 151064, -66834, 5266, -40618, 24407, -71819, 201743, -50798, 194228, -58627, 216514, -99887, 200810, -10223, 62320, -5447, 206534, -92986, 173835, -31905, 10660, -14758, 128940, -98359, 100709, -61579, 78930, -12558, 59646, -38550, 176836, -84805, 161807, -77940, 153901, -33483, 72970, -99418, 137144, -66321, 10197, -17246, 37379, -13959, 86343, -43858, 61347, -3852, 163521, -95922, 6098, -41454, 21906, -88214, 181836, -71040, 6871, -43781, 217153, -46183, 153145, -31320, 181589, -83801, 176337, -83057, 73919, -16260, 51927, -36253, 99556, -97724, 12778, -36243, 151545, -58614, 132676, -96179, 185840, -58826, 115592, -66085, 82515, -46475, 204353, -26204, 120962, -12380, 79008, -89718, 66281, -90870, 39962, -51375, 162702, -5943, 176687, -98773, 90523, -670, 117357, -46399, 91528, -51952, 64980, -34262, 211599, -72638, 56888, -87849, 179791, -3422, 75103, -12859, 9209, -72872, 99563, -57000, 162781, -42885, 149470, -46726, 181588, -34021, 41386, -44510, 67548, -101030, 215124, -3894, 44097, -27214, 157357, -8110, 123451, -80028, 87822, -74219, 25882, -15183, 177751, -61318, 216910, -22379, 128283, -40532, 217034, -45270, 101327, -21054, 202425, -89996, 138827, -111, 155572, -74331, 48261, -16276, 119403, -3968, 32069, -10662, 163147, -72876, 76277, -25219, 209525, -18144, 8004, -63908, 199355, -73960, 106878, -56544, 193121, -62506, 46965, -90852, 210027, -8259, 40486, -77131, 196424, -39886, 112642, -79162, 190836, -68259, 214503, -85075, 190978, -13747, 193088, -88153, 94044, -75041, 184030, -27259, 92150, -7253, 218634, -42544, 183174, -1863, 4806, -7931, 157080, -40969, 90400, -87178, 88319, -70960, 211463, -40909, 18161, -27819, 58911, -99420, 175859, -953, 128324, -650, 53355, -33968, 121856, -56509, 126087, -35596, 179118, -29880, 67102, -75645, 49872, -58373, 90097, -97616, 137509, -36784, 171258, -20153, 199504, -88100, 110462, -62387, 153988, -87356, 49170, -87239, 143074, -73586, 56146, -64396, 199539, -19624, 154451, -93422, 94238, -86731, 206810, -18593, 18061, -97758, 1793, -83180, 160886, -42412, 131561, -63506, 121013, -74590, 34458, -91093, 71759, -12122, 177060, -9033, 18825, -48775, 169913, -54959, 92533, -52852, 167616, -30539, 107259, -66493, 177311, -72108, 200326, -11585, 65016, -24888, 45521, -9304, 208183, -69795, 36094, -78486, 160314, -12887, 132996, -58172, 29043, -56091, 196510, -18698, 103204, -63945, 72403, -74616, 35050, -99642, 123462, -48561, 83501, -16038, 180942, -53200, 80912, -6702, 214618, -5778, 91661, -15190, 147990, -10744, 87542, -75724, 213310, -10501, 73498, -30816, 165073, -46738, 84600, -99729, 145890, -31030, 202079, -57822, 27931, -69053, 159317, -42912, 42424, -92911, 15866, -46919, 146374, -37644, 54602, -63822, 10834, -101337, 171704, -13893, 147870, -12674, 28864, -56429, 195273, -5828, 56711, -15765, 101643, -17160, 158687, -94330, 199870, -73451, 103488, -23018, 145618, -37893, 107312, -68020, 62044, -83506, 52854, -51080, 78505, -76398, 23518, -43579, 47435, -8700, 13716, -45094, 141275, -36046, 192291, -57803, 36352, -6768, 169856, -14988, 102549, -36817, 78728, -76821, 133222, -21294, 34096, -11087, 207855, -67098, 15718, -93781, 65590, -92570, 86810, -39494, 148710, -93125, 52492, -94770, 56684, -55592, 189693, -73117, 28041, -87638, 27254, -64753, 183182, -6283, 118499, -32605, 182059, -12180, 43951, -7891, 41579, 759, 107200, -13988, 174554, -39694, 190702, -19919, 219471, -10001, 22276, -41486, 79507, -50007, 103374, -50302, 151951, -65413, 170232, -80321, 135239, -63464, 130544, -82923, 101138, -63066, 124780, -80723, 177860, -24281, 210453, -74659, 126697, -46204, 56942, -39267, 113061, -36908, 125077, -81925, 47427, -21798, 103066, -17434, 56385, -35405, 17607, -66928, 1132, -60974, 45587, -13537, 102537, -72360, 82826, -84449, 48022, -68069, 82353, -28451, 152264, -98772, 175218, -84182, 102625, -10602, 208991, -1057, 12610, -72226, 22089, -84554, 120929, -5316, 81661, -97324, 155552, -99495, 80228, -53047, 25545, -80822, 173930, -36726, 107703, -87830, 88187, -7305, 96819, -15664, 62044, -90220, 5048, -51132, 81225, -28526, 168055, -50483, 110121, -44283, 119284, -24116, 61568, -50380, 18951, -71569, 67935, -16107, 41553, -33796, 123424, -13453, 110920, -59507, 9918, -42438, 207825, -18410, 153338, -53516, 159135, -18246, 1010, -96127, 163319, -37135, 59321, -73731, 26534, -54808, 63011, -94047, 115489, -61067, 11899, -1009, 25400, -74560, 138263, -70667, 183144, -25097, 75599, -23254, 122207, -79355, 172499, -81428, 66588, -63327, 140458, -93367, 119937, -4704, 160815, -90173, 14508, -7984, 143008, -39412, 120184, -92059, 105237, -38888, 96990, -82572, 159734, -93874, 113098, -77702, 210992, -4065, 216713, -26105, 54575, -10737, 101735, -82873, 64221, -34644, 206783, -21614, 67224, -75385, 75083, -76913, 53207, 294, 7527, -27955, 87072, -69015, 64191, -25415, 64306, -19375, 125154, -80691, 25678, -79526, 154705, -58545, 164986, -37883, 19556, -61448, 159325, -40127, 204751, -25805, 48692, -46511, 180455, -58445, 129163, -31951, 11150, -29507, 126857, -58416, 119545, -88205, 109185, -65262, 61317, -26360, 176092, -24327, 215552, -25418, 108496, -96863, 140581, -55818, 53810, -96178, 210916, -23681, 127299, -21639, 113868, -33250, 150132, -86323, 174634, -41227, 88542, -35836, 121009, -95627, 210955, -7747, 152240, -89899, 84788, -72437, 125587, -42168, 149879, -60003, 30340, -17255, 151820, -30860, 165057, -24545, 86875, -97442, 51212, -70310, 206257, -55413, 117181, -84140, 23012, -69252, 31835, -51049, 211577, -6228, 174279, -97336, 128683, -36821, 195836, -96070, 59326, -29602, 210410, -32975, 10838, -15243, 74473, -18716, 58420, -46136, 52448, -69227, 76811, -95621, 82897, -75570, 16915, -4425, 72831, -73854, 62665, -83858, 75742, -36038, 205001, -54656, 189232, -30700, 146309, -81062, 129645, -14618, 125246, -3330, 26779, -2227, 214974, -50224, 166578, -38213, 179867, -45539, 74504, -81228, 26961, -73763, 82098, -21286, 130631, -94766, 16772, -58585, 182061, -81590, 38317, -35545, 19280, -67888, 11037, -20178, 165259, -59581, 148133, -54458, 116588, -17008, 136393, -87961, 84796, -77495, 162845, -40976, 182450, -34396, 96438, -47745, 167267, -88368, 29043, -77406, 134319, -85116, 179504, -251, 28973, -81611, 90848, -24731, 29835, -98327, 26582, -71599, 123455, -87267, 107182, -77739, 123116, -94390, 86881, -93101, 15487, -53175, 193099, -76949, 90573, -77926, 82359, -68322, 53510, -93002, 77887, -8111, 199772, -80715, 211550, -922, 175907, -100641, 95463, -94982, 164868, -72633, 72878, -21618, 138400, -36671, 210042, -79685, 174463, -91692, 103313, -80780, 31207, -32799, 177945, -3795, 12903, -93762, 11246, -96532, 64028, -18570, 49338, -48457, 147893, -22210, 158476]\n",
    "\n",
    "# Write your code here\n",
    "ClosingBalance = 0\n",
    "for x in PPE:\n",
    "    ClosingBalance = ClosingBalance + x\n",
    "ClosingBalance = ClosingBalance + 153259800\n"
   ]
  },
  {
   "cell_type": "markdown",
   "metadata": {
    "nbgrader": {
     "grade": false,
     "grade_id": "cell-e3bd8051b884ab64",
     "locked": true,
     "schema_version": 3,
     "solution": false,
     "task": false
    }
   },
   "source": [
    "### Part B (4 points)"
   ]
  },
  {
   "cell_type": "markdown",
   "metadata": {
    "nbgrader": {
     "grade": false,
     "grade_id": "cell-0b8c9219588b2e36",
     "locked": true,
     "schema_version": 3,
     "solution": false,
     "task": false
    }
   },
   "source": [
    "Your manager wants to know how much depreciation the newly purchased assets added to depreciation expense in 2018. Typically, each asset has a specific useful life; however, to simplify things, assume that all assets purcahsed in 2018 have a useful life of 10 years. Your company also uses the \"Half Year Convention\", which means that to calculate depreciation the company assumes any purchases made during the year were purchased on July 1, 2018 (at the halfway point for the year), and only half of one year's depreciation should be included for the newly purchased items. For example, if a machine was purchased for 20,600 then the depreciation for the first year is \\[(20,600 / 10 years) * 1/2)\\]\n",
    "\n",
    "Create a variable `addlDepr`, and use a `for` loop and `if` statement to calculate the additional depreciation.\n",
    "\n",
    "Hint: only <b>positive</b> values are purchased assets that are depreciated. Therefore only positive values in the list should be used to calculate the additional depreciation. You may need to use an `if` statement to use only the positive values. "
   ]
  },
  {
   "cell_type": "code",
   "execution_count": 67,
   "metadata": {
    "nbgrader": {
     "grade": false,
     "grade_id": "cell-543c25605e48c148",
     "locked": false,
     "schema_version": 3,
     "solution": true,
     "task": false
    }
   },
   "outputs": [],
   "source": [
    "addlDepr = 0\n",
    "# write your code here\n",
    "for x in PPE:\n",
    "    if x > 0:\n",
    "        addlDepr = addlDepr + (x/10)*0.5\n"
   ]
  },
  {
   "cell_type": "markdown",
   "metadata": {
    "nbgrader": {
     "grade": false,
     "grade_id": "cell-77a956111b3b85a0",
     "locked": true,
     "schema_version": 3,
     "solution": false,
     "task": false
    }
   },
   "source": [
    "## Problem 3: Reverse a List (10 points)"
   ]
  },
  {
   "cell_type": "markdown",
   "metadata": {
    "nbgrader": {
     "grade": false,
     "grade_id": "cell-78c4ddcf1997dfff",
     "locked": true,
     "schema_version": 3,
     "solution": false,
     "task": false
    }
   },
   "source": [
    "Write a function called `ReverseList` that takes 1 argument, a list. The list can be of any length. _ReverseList_ should return a new list that has the elements in reverse order. For example, if `ReverseList([1,2,3])` should return `[3,2,1]`, and the list given as an argument should be unmodified. One more thing. You may not use the built-in `reverse` method for Python lists. ;-)\n",
    "\n",
    "Hints:\n",
    "1. You can do this with slicing.\n",
    "2. The built-in list method `insert` could also work here."
   ]
  },
  {
   "cell_type": "code",
   "execution_count": 64,
   "metadata": {
    "nbgrader": {
     "grade": false,
     "grade_id": "cell-a3b3e7b063b5da17",
     "locked": false,
     "schema_version": 3,
     "solution": true,
     "task": false
    }
   },
   "outputs": [],
   "source": [
    "# write your code here\n",
    "def ReverseList(x):\n",
    "    return x[::-1]\n"
   ]
  },
  {
   "cell_type": "markdown",
   "metadata": {
    "nbgrader": {
     "grade": false,
     "grade_id": "cell-3a359d16af7720ff",
     "locked": true,
     "schema_version": 3,
     "solution": false,
     "task": false
    }
   },
   "source": [
    "## Problem 4: Benford Analysis (20 points)"
   ]
  },
  {
   "cell_type": "markdown",
   "metadata": {
    "nbgrader": {
     "grade": false,
     "grade_id": "cell-7ff987dccdf6d3fe",
     "locked": true,
     "schema_version": 3,
     "solution": false,
     "task": false
    }
   },
   "source": [
    "Benford's Analysis is a common test for fraud. Benford's Law states that, in naturally occurring financial data, the first digit will be 1 approximately 30% of the time, 2 approximately 18% of the time, and so on. The table below shows the specific frequencies found by Benford. If you analyze financial data and the frequencies of the first digits deviate significantly from this table, then you should be suspicious of fraud and investigate further.\n",
    "\n",
    "| Digit | Frequency |\n",
    "|:----:|:----:|\n",
    "| 1 | 30.1% |\n",
    "| 2 | 17.6% |\n",
    "| 3 | 12.5% |\n",
    "| 4 | 9.7% |\n",
    "| 5 | 7.9% |\n",
    "| 6 | 6.7% |\n",
    "| 7 | 5.8% |\n",
    "| 8 | 5.1% |\n",
    "| 9 | 4.6% |\n",
    "\n",
    "We downloaded data on liquor sales in the state of Iowa (from [this website](https://data.iowa.gov/Sales-Distribution/Iowa-Liquor-Sales/m3tr-qhgy), if you're interested). The dataset records purchases of liquor by merchants, such as grocery stores, liquor stores, and convenience stores. Each time one of these merchants orders liquor, the state of Iowa records it in this dataset. The data is pretty large, so we filtered it to only include 2018 data. We also removed all columns except the sale amount. \n",
    "\n",
    "In this exercise, you will conduct a Benford's analysis on this data. Since the data is maintained by the state, we do not expect fraud. Therefore, you can think of this exercise as a test of Benford's Law! We should expect that the distribution of the first digit is similar to what Benford's Law predicts.\n",
    "\n",
    "Before you start writing code, let's _think_ about how this will work. Your input data will be a list of numbers. Each number represents a purchase (in dollars) by a merchant. You are going to iterate over this list. For each element of the list, you will extract the first digit. Then what? You need to count the number of times 1 was the first digit, the number of times 2 was the first digit, and so on. How might you do that? A dictionary! You will create a dictionary called `dictCounts` with keys 1, 2, ..., 9 and initialize the value for each key to zero. As you iterate over the sales data, each time you see a 1, you will add 1 to the value stored for key 1. Each time you see a 7, you will add 1 to the value stored for key 7. And so on. Is that it? No! After you have counted the first digits, you will have to convert your counts into percentages. This should be called `dictPercents`.\n",
    "\n",
    "Here's the pseudocode that we recommend you follow:  \n",
    "```\n",
    "Load the sales data as a list (we give you code to do this)\n",
    "\n",
    "Create an empty dictionary called dictCounts\n",
    "\n",
    "Initialize dictCounts. The dictionary should have one key for each digit 1 - 9. The initial value stored for each key should be be zero.\n",
    "\n",
    "For each sale amount in the list:\n",
    "    Extract first digit of amount.\n",
    "    If first digit is n, add 1 to the count stored for key n in the dictionary.\n",
    "    \n",
    "Create a new empty dictionary called dictPercents.\n",
    "\n",
    "Use dictCounts to create the keys and values in dictPercents. The keys in dictPercents should be 1, 2, ... 9. The values should be the percentages. For example, dictPercents[2] should be the percent of times 2 was the first digit in the data.\n",
    "\n",
    "Print percentages (we give you code to do this)\n",
    "```\n",
    "\n",
    "HINTS:\n",
    "* To get the first digit of a number, consider converting the number to a string.\n",
    "* If you are working on your local computer, make sure to save the data file IowaLiquorSales2018.csv in the same folder as this notebook."
   ]
  },
  {
   "cell_type": "code",
   "execution_count": 44,
   "metadata": {
    "nbgrader": {
     "grade": false,
     "grade_id": "cell-50175b6b9e172943",
     "locked": true,
     "schema_version": 3,
     "solution": false,
     "task": false
    }
   },
   "outputs": [],
   "source": [
    "# THIS CODE LOADS THE DATA FILE INTO A LIST NAMED sales_amounts.\n",
    "# YOU ONLY NEED TO RUN THIS CELL ONCE.\n",
    "# DO NOT DELETE THIS CODE\n",
    "import pandas as pd\n",
    "df = pd.read_csv('./IowaLiquorSales2018.csv')\n",
    "sales_amounts = df['SaleAmount'].tolist()"
   ]
  },
  {
   "cell_type": "code",
   "execution_count": 63,
   "metadata": {
    "nbgrader": {
     "grade": false,
     "grade_id": "cell-2fa78c04b341d937",
     "locked": false,
     "schema_version": 3,
     "solution": true,
     "task": false
    }
   },
   "outputs": [
    {
     "name": "stdout",
     "output_type": "stream",
     "text": [
      "Dictionary of counts:\n",
      "-------------------------\n",
      "1\t793,580\n",
      "2\t398,064\n",
      "3\t228,965\n",
      "4\t178,214\n",
      "5\t113,334\n",
      "6\t215,147\n",
      "7\t156,996\n",
      "8\t109,993\n",
      "9\t160,765\n",
      "\n",
      "Dictionary of percentages:\n",
      "-------------------------\n",
      "1\t33.7%\n",
      "2\t16.9%\n",
      "3\t9.7%\n",
      "4\t7.6%\n",
      "5\t4.8%\n",
      "6\t9.1%\n",
      "7\t6.7%\n",
      "8\t4.7%\n",
      "9\t6.8%\n"
     ]
    }
   ],
   "source": [
    "dictCounts = {1: 0, 2: 0, 3: 0, 4: 0, 5: 0, 6: 0, 7: 0, 8: 0, 9: 0 }\n",
    "for x in sales_amounts:\n",
    "    x = str(x)\n",
    "    if x[0] == '1':\n",
    "        dictCounts[1] = dictCounts[1] + 1\n",
    "    if x[0] == '2':\n",
    "        dictCounts[2] = dictCounts[2] + 1\n",
    "    if x[0] == '3':\n",
    "        dictCounts[3] = dictCounts[3] + 1\n",
    "    if x[0] == '4':\n",
    "        dictCounts[4] = dictCounts[4] + 1\n",
    "    if x[0] == '5':\n",
    "        dictCounts[5] = dictCounts[5] + 1\n",
    "    if x[0] == '6':\n",
    "        dictCounts[6] = dictCounts[6] + 1\n",
    "    if x[0] == '7':\n",
    "        dictCounts[7] = dictCounts[7] + 1\n",
    "    if x[0] == '8':\n",
    "        dictCounts[8] = dictCounts[8] + 1\n",
    "    if x[0] == '9':\n",
    "        dictCounts[9] = dictCounts[9] + 1\n",
    "dictPercents = {1: 0, 2: 0, 3: 0, 4: 0, 5: 0, 6: 0, 7: 0, 8: 0, 9: 0 }\n",
    "for i in range(1,10):\n",
    "    dictPercents[i] = dictCounts[i] / len(sales_amounts)\n",
    "\n",
    "# ENTER YOUR CODE ABOVE THIS LINE\n",
    "# The code below prints out the two dictionaries.\n",
    "# Do not modify or delete this code.\n",
    "\n",
    "print('Dictionary of counts:')\n",
    "print('-'*25)\n",
    "for i in range(1,10):\n",
    "    print(f'{i}\\t{dictCounts[i]:,}')\n",
    "\n",
    "print()\n",
    "print('Dictionary of percentages:')\n",
    "print('-'*25)\n",
    "for i in range(1,10):\n",
    "    print(f'{i}\\t{dictPercents[i]*100:.1f}%')"
   ]
  },
  {
   "cell_type": "markdown",
   "metadata": {
    "nbgrader": {
     "grade": false,
     "grade_id": "cell-c5dac642b23a2291",
     "locked": true,
     "schema_version": 3,
     "solution": false,
     "task": false
    }
   },
   "source": [
    "Look at the percentages you found for each digit. In your opinion, is this indicative of fraud? If you were a fraud examiner, would you choose to investigate this further? \n",
    "\n",
    "There is no right answer to this question. Therefore, state your opinion and justify it using a few sentences."
   ]
  },
  {
   "cell_type": "markdown",
   "metadata": {
    "nbgrader": {
     "grade": true,
     "grade_id": "cell-1506adcb15ccf21c",
     "locked": false,
     "points": 2,
     "schema_version": 3,
     "solution": true,
     "task": false
    }
   },
   "source": [
    "Type your answer here. (Double-click on the cell to begin typing.) "
   ]
  },
  {
   "cell_type": "markdown",
   "metadata": {
    "nbgrader": {
     "grade": false,
     "grade_id": "cell-971c8e5c5ff726e2",
     "locked": true,
     "schema_version": 3,
     "solution": false,
     "task": false
    }
   },
   "source": [
    "## Problem 5: Cleaning Strings Containing Accounting Numbers (20 points)"
   ]
  },
  {
   "cell_type": "markdown",
   "metadata": {
    "nbgrader": {
     "grade": false,
     "grade_id": "cell-d7af8e77a19c7f47",
     "locked": true,
     "schema_version": 3,
     "solution": false,
     "task": false
    }
   },
   "source": [
    "When working in data analytics, you will spend a lot of your time cleaning data. Therefore, you should learn some of the \"tricks of the trade.\" A common problem that we accountants face is to convert accounting numbers from strings to floats.\n",
    "\n",
    "Earlier in this unit, we told you that Python (and other real programming languages) expect numbers to be formatted a certain way. Specifically, we told you not to include commas, dollar signs, and parentheses when entering numbers. In this problem, you will see why. We will give you a list of numbers in Excel's \"accounting\" format. Since Python does not recognize that format, it imports those numbers as strings. It is your job to \"clean\" those numbers: remove dollar signs, parentheses, and commas. After you have cleaned them, you can convert them to floats.\n",
    "\n",
    "So in summary, we will give you a list of strings containing numbers in accounting format. Your job will be to convert that list into a list of floats.\n",
    "\n",
    "#### Getting Started: Load the Data\n",
    "\n",
    "First, make sure the file acctg_nums.txt is in the same folder as this notebook. Then execute the following code cell which will load the numbers as a list."
   ]
  },
  {
   "cell_type": "code",
   "execution_count": 27,
   "metadata": {
    "nbgrader": {
     "grade": false,
     "grade_id": "cell-1fc136ba8b246d4a",
     "locked": true,
     "schema_version": 3,
     "solution": false,
     "task": false
    }
   },
   "outputs": [
    {
     "name": "stdout",
     "output_type": "stream",
     "text": [
      "['$2,315,696.78', '$8,849,725.85', '$4,138,707.83', '$3,437,751.77', '$8,629,705.73', '$6,223,525.82', '$6,178,082.56', '$1,242,075.49', '$181,244.82', '$7,228,343.76', '$9,194,240.65', '$3,955,470.90', '$6,180,681.77', '$8,369,806.87', '$3,877,632.21', '$8,085,592.17', '$923,194.75', '$3,317,394.63', '$8,258,026.36', '$3,056,891.32', '$1,169,245.03', '$5,645,930.39', '$3,318,156.39', '$6,938,193.08', '$326,099.56', '$(8,120)', '$(2,715,230)', '$(7,446,990)', '$(2,125,092)', '$(8,715,515)', '$(4,099,756)', '$(4,613,750)', '$(1,167,868)', '$(8,517,373)', '$(9,978,905)', '$(8,664,351)', '$(8,916,970)', '$(4,047,077)', '$(5,283,822)', '$(5,036,495)', '$(3,571,100)', '$(2,881,456)', '$(6,468,513)', '$(7,547,856)', '$(3,937,198)', '$(1,998,608)', '$(2,274,507)', '$(6,830,683)', '$(7,234,015)', '$(7,074,619)']\n"
     ]
    }
   ],
   "source": [
    "with open('acctg_nums.txt', 'r', encoding='utf8') as f:\n",
    "    data = f.read().splitlines()\n",
    "    \n",
    "print(data)"
   ]
  },
  {
   "cell_type": "markdown",
   "metadata": {
    "nbgrader": {
     "grade": false,
     "grade_id": "cell-cd426bb2bf99cc43",
     "locked": true,
     "schema_version": 3,
     "solution": false,
     "task": false
    }
   },
   "source": [
    "Let's take a look at the data. You will see that the variable `data` contains a list of strings. Each contains a valid accounting number. Notice that some of the numbers are positive and others are negative.\n",
    "\n",
    "Your job is to convert each of those strings into a float containing the number. For example, if the string is '$(7,074,619)', you should convert it into the float -7074619.\n",
    "\n",
    "Before you write any code, let's _think_ about the process. \n",
    "* What steps do you want to take to transform a _positive_ number into a float?\n",
    "    - Get rid of the dollar sign. How?\n",
    "    - Get rid of the comma. How?\n",
    "* What steps do you want to take to transform a _negative_ number into a float?\n",
    "    - What do you want to do with the left parenthesis?\n",
    "    - What do you want to do with the right parenthesis?\n",
    "    - Get rid of the dollar sign.\n",
    "    - Get rid of the comma.\n",
    "    \n",
    "To get started, we want you to write a function called `CleanString`. It should take one argument, a string that represents an accounting number. In the body of the function, the string will be converted into a float. The function should then return that float.\n",
    "\n",
    "HINTS:\n",
    "* You can use an if-statement to distinguish between positive and negative numbers, but it is also possible to write this code without an if-statement.  \n",
    "* If you use an if-statement, use one of the string functions we showed you in unit 1-10 to distinguish between positive and negative numbers.  \n",
    "* You can \"get rid\" of an unwanted character by replacing it with something else.  \n",
    "* Use one of the string functions we showed you in unit 1-10 to replace a character.  "
   ]
  },
  {
   "cell_type": "code",
   "execution_count": null,
   "metadata": {
    "nbgrader": {
     "grade": false,
     "grade_id": "cell-5d116a8338d31cc2",
     "locked": false,
     "schema_version": 3,
     "solution": true,
     "task": false
    }
   },
   "outputs": [],
   "source": [
    "#write your function CleanString here\n",
    "def CleanString(x):\n",
    "    return float(x)\n"
   ]
  },
  {
   "cell_type": "markdown",
   "metadata": {
    "nbgrader": {
     "grade": false,
     "grade_id": "cell-96d83b6eb799578b",
     "locked": true,
     "schema_version": 3,
     "solution": false,
     "task": false
    }
   },
   "source": [
    "After you have written and tested your `CleanString` function, complete the following code cell. It creates a new list called `cleandata` that contains a list of floats, each representing a string converted from the original list `data`."
   ]
  },
  {
   "cell_type": "code",
   "execution_count": 70,
   "metadata": {
    "nbgrader": {
     "grade": false,
     "grade_id": "cell-0c9c251b29f0cc3d",
     "locked": false,
     "schema_version": 3,
     "solution": true,
     "task": false
    }
   },
   "outputs": [
    {
     "name": "stdout",
     "output_type": "stream",
     "text": [
      "['231569678', '884972585', '413870783', '343775177', '862970573', '622352582', '617808256', '124207549', '18124482', '722834376', '919424065', '395547090', '618068177', '836980687', '387763221', '808559217', '92319475', '331739463', '825802636', '305689132', '116924503', '564593039', '331815639', '693819308', '32609956', '-8120', '-2715230', '-7446990', '-2125092', '-8715515', '-4099756', '-4613750', '-1167868', '-8517373', '-9978905', '-8664351', '-8916970', '-4047077', '-5283822', '-5036495', '-3571100', '-2881456', '-6468513', '-7547856', '-3937198', '-1998608', '-2274507', '-6830683', '-7234015', '-7074619']\n"
     ]
    }
   ],
   "source": [
    "cleandata = []\n",
    "\n",
    "for acctg_num in data:\n",
    "    # Write code here to convert acctg_num to a float, using CleanString,\n",
    "    # and then append it to cleandata.\n",
    "    acctg_num = acctg_num.strip('$)')\n",
    "    acctg_num = acctg_num.replace(',','')\n",
    "    acctg_num = acctg_num.replace('.','')\n",
    "    if acctg_num.startswith('(') is True:\n",
    "        acctg_num = acctg_num.replace('(','-')\n",
    "    else:\n",
    "        acctg_num = acctg_num.strip('(')\n",
    "    CleanString(acctg_num)\n",
    "    cleandata.append(acctg_num)\n",
    "     \n",
    "    \n",
    "print(cleandata)"
   ]
  },
  {
   "cell_type": "markdown",
   "metadata": {
    "nbgrader": {
     "grade": false,
     "grade_id": "cell-cc13608adad385a8",
     "locked": true,
     "schema_version": 3,
     "solution": false,
     "task": false
    }
   },
   "source": [
    "## Problem 6: Compute the Fibonacci Numbers (16 points)"
   ]
  },
  {
   "cell_type": "markdown",
   "metadata": {
    "nbgrader": {
     "grade": false,
     "grade_id": "cell-0b53789d183dd621",
     "locked": true,
     "schema_version": 3,
     "solution": false,
     "task": false
    }
   },
   "source": [
    "The Fibonacci numbers are a famous sequence of numbers. The first two numbers in the sequence are 1. After those, every number in the sequence is the sum of the previous two numbers. So the sequence is 1, 1, 2, 3, 5, 8, 13, ...\n",
    "\n",
    "In this exercise, you will write a function `Fib`. It should take one argument, `n` and return the first `n` Fibonacci numbers as a list. Thus, `Fib(4)` should return `[1,1,2,3]`. You can assume that the argument `n` will always be greater than zero.\n",
    "\n",
    "Hints:\n",
    "1. The behavior of your function for `n==1` and `n==2` will be different than that for `n > 2`. Therefore, use an if statement that checks the value of `n`.\n",
    "2. Remember that you can use negative numbers to get elements from the end of a list. For example, if `L` is a list, then `L[-1]` returns the last element of the list."
   ]
  },
  {
   "cell_type": "code",
   "execution_count": 73,
   "metadata": {
    "nbgrader": {
     "grade": false,
     "grade_id": "cell-c716c2da4a854994",
     "locked": false,
     "schema_version": 3,
     "solution": true,
     "task": false
    }
   },
   "outputs": [],
   "source": [
    "# REQUIRES: n > 0\n",
    "def Fib(n):\n",
    "    # Write your code here\n",
    "    L = []\n",
    "    if n == 1:\n",
    "        L = [1]\n",
    "        return L\n",
    "    if n == 2:\n",
    "        L = [1,1]\n",
    "        return L\n",
    "    if n > 2:\n",
    "        L = [1,1]\n",
    "        while n > 2:\n",
    "            b = L[-1]+L[-2]\n",
    "            L.append(b)\n",
    "            n = n-1\n",
    "        return L\n"
   ]
  }
 ],
 "metadata": {
  "celltoolbar": "Create Assignment",
  "kernelspec": {
   "display_name": "Python 3 (ipykernel)",
   "language": "python",
   "name": "python3"
  },
  "language_info": {
   "codemirror_mode": {
    "name": "ipython",
    "version": 3
   },
   "file_extension": ".py",
   "mimetype": "text/x-python",
   "name": "python",
   "nbconvert_exporter": "python",
   "pygments_lexer": "ipython3",
   "version": "3.9.5"
  }
 },
 "nbformat": 4,
 "nbformat_minor": 4
}
