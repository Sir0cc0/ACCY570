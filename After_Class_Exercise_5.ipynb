{
 "cells": [
  {
   "cell_type": "markdown",
   "metadata": {
    "nbgrader": {
     "grade": false,
     "grade_id": "cell-9878b6884495abfc",
     "locked": true,
     "schema_version": 3,
     "solution": false,
     "task": false
    }
   },
   "source": [
    "# After-Class Exercises for September 13 Class (Lists)"
   ]
  },
  {
   "cell_type": "markdown",
   "metadata": {
    "nbgrader": {
     "grade": false,
     "grade_id": "cell-023b2ba8d07c36fd",
     "locked": true,
     "schema_version": 3,
     "solution": false,
     "task": false
    }
   },
   "source": [
    "## Exercise 1"
   ]
  },
  {
   "cell_type": "markdown",
   "metadata": {
    "nbgrader": {
     "grade": false,
     "grade_id": "cell-8610719336077560",
     "locked": true,
     "schema_version": 3,
     "solution": false,
     "task": false
    }
   },
   "source": [
    "Create a variable called `myEmptyList` and initialize its value to the empty list."
   ]
  },
  {
   "cell_type": "code",
   "execution_count": null,
   "metadata": {},
   "outputs": [],
   "source": [
    "# Write your code for exercise 1 in this cell\n",
    "myEmptyList = []"
   ]
  },
  {
   "cell_type": "markdown",
   "metadata": {
    "nbgrader": {
     "grade": false,
     "grade_id": "cell-c7079f4fda57e036",
     "locked": true,
     "schema_version": 3,
     "solution": false,
     "task": false
    }
   },
   "source": [
    "## Exercise 2"
   ]
  },
  {
   "cell_type": "markdown",
   "metadata": {
    "nbgrader": {
     "grade": false,
     "grade_id": "cell-f7ea2d043172d6fd",
     "locked": true,
     "schema_version": 3,
     "solution": false,
     "task": false
    }
   },
   "source": [
    "Create a variable called `someList` and set its value to a list containing the values -4, 'cat', and 8.7."
   ]
  },
  {
   "cell_type": "code",
   "execution_count": null,
   "metadata": {},
   "outputs": [],
   "source": [
    "# Write your code for exercise 2 in this cell\n",
    "someList = [-4, 'cat', 8.7]"
   ]
  },
  {
   "cell_type": "markdown",
   "metadata": {
    "nbgrader": {
     "grade": false,
     "grade_id": "cell-b517693758337b73",
     "locked": true,
     "schema_version": 3,
     "solution": false,
     "task": false
    }
   },
   "source": [
    "## Exercise 3"
   ]
  },
  {
   "cell_type": "markdown",
   "metadata": {
    "nbgrader": {
     "grade": false,
     "grade_id": "cell-539d8da5b76906e3",
     "locked": true,
     "schema_version": 3,
     "solution": false,
     "task": false
    }
   },
   "source": [
    "### Exercise 3a"
   ]
  },
  {
   "cell_type": "markdown",
   "metadata": {},
   "source": [
    "Consider the following code that creates a list:  \n",
    "```python\n",
    "odd_numbers = [1, 3, 5, 7, 9, 11]\n",
    "```\n",
    "\n",
    "What is the index of the second element of the list `odd_numbers`? In other words, what is the index of the 3? Type your answer into the following text cell."
   ]
  },
  {
   "cell_type": "markdown",
   "metadata": {
    "nbgrader": {
     "grade": false,
     "grade_id": "cell-5c9da392550ee07f",
     "locked": false,
     "schema_version": 3,
     "solution": true,
     "task": false
    }
   },
   "source": [
    "__*Type your answer in this cell:*__  \n",
    "1"
   ]
  },
  {
   "cell_type": "markdown",
   "metadata": {
    "nbgrader": {
     "grade": false,
     "grade_id": "cell-dad32e799f5246e5",
     "locked": true,
     "schema_version": 3,
     "solution": false,
     "task": false
    }
   },
   "source": [
    "### Exercise 3b"
   ]
  },
  {
   "cell_type": "markdown",
   "metadata": {
    "nbgrader": {
     "grade": false,
     "grade_id": "cell-2b06100be86855bf",
     "locked": true,
     "schema_version": 3,
     "solution": false,
     "task": false
    }
   },
   "source": [
    "What is the index of the *last* element of the list `odd_numbers`? In other words, what is the index of the 11? Type your answer into the following text cell.\n",
    "\n",
    "There are two answers to this question. I want both answers!\n",
    "\n",
    "HINT: In Python, what index *always* returns the last element of a list?"
   ]
  },
  {
   "cell_type": "markdown",
   "metadata": {
    "nbgrader": {
     "grade": false,
     "grade_id": "cell-5c9da392550ee07f",
     "locked": false,
     "schema_version": 3,
     "solution": true,
     "task": false
    }
   },
   "source": [
    "__*Type your answer in this cell:*__  \n",
    "5 and -1"
   ]
  },
  {
   "cell_type": "markdown",
   "metadata": {
    "nbgrader": {
     "grade": false,
     "grade_id": "cell-2fd04031d37bf512",
     "locked": true,
     "schema_version": 3,
     "solution": false,
     "task": false
    }
   },
   "source": [
    "## Exercise 4"
   ]
  },
  {
   "cell_type": "markdown",
   "metadata": {
    "nbgrader": {
     "grade": false,
     "grade_id": "cell-9c3a9c9d5cb764a3",
     "locked": true,
     "schema_version": 3,
     "solution": false,
     "task": false
    }
   },
   "source": [
    "In this exercise, you will use slicing to extract the second, third, and fourth elements of the list `acctg_terms`. \n",
    "\n",
    "Fix the code below. Set the values of the variables `start` and `end` such that `acctg_terms[start:end]` equals `['COGS', 'net income', 'balance sheet']`."
   ]
  },
  {
   "cell_type": "code",
   "execution_count": 2,
   "metadata": {
    "nbgrader": {
     "grade": false,
     "grade_id": "cell-6b6af41802199656",
     "locked": false,
     "schema_version": 3,
     "solution": true,
     "task": false
    }
   },
   "outputs": [
    {
     "name": "stdout",
     "output_type": "stream",
     "text": [
      "['COGS', 'net income', 'balance sheet']\n"
     ]
    }
   ],
   "source": [
    "acctg_terms = ['revenue', 'COGS', 'net income', \n",
    "               'balance sheet', 'assets', 'equity', \n",
    "               'cash flow', 'return on equity']\n",
    "\n",
    "# Complete the next two lines of code\n",
    "start = 1\n",
    "end = 4\n",
    "\n",
    "print(acctg_terms[start:end])"
   ]
  },
  {
   "cell_type": "markdown",
   "metadata": {
    "nbgrader": {
     "grade": false,
     "grade_id": "cell-d9c71bf89c51a47e",
     "locked": true,
     "schema_version": 3,
     "solution": false,
     "task": false
    }
   },
   "source": [
    "## Exercise 5"
   ]
  },
  {
   "cell_type": "markdown",
   "metadata": {
    "nbgrader": {
     "grade": false,
     "grade_id": "cell-3b4fa50ef9e39c48",
     "locked": true,
     "schema_version": 3,
     "solution": false,
     "task": false
    }
   },
   "source": [
    "In the following code cell, add a line of code that changes the value of the last element to 17."
   ]
  },
  {
   "cell_type": "code",
   "execution_count": 4,
   "metadata": {
    "nbgrader": {
     "grade": false,
     "grade_id": "cell-82830684deca1e71",
     "locked": false,
     "schema_version": 3,
     "solution": true,
     "task": false
    }
   },
   "outputs": [],
   "source": [
    "someList = [2,4,6,8,10,12,'a','b',3.14,2.718,'dog']\n",
    "\n",
    "# Write your code here\n",
    "someList[-1] = 17\n"
   ]
  },
  {
   "cell_type": "markdown",
   "metadata": {
    "nbgrader": {
     "grade": false,
     "grade_id": "cell-4a1de61ffdea76dc",
     "locked": true,
     "schema_version": 3,
     "solution": false,
     "task": false
    }
   },
   "source": [
    "## Exercise 6"
   ]
  },
  {
   "cell_type": "markdown",
   "metadata": {
    "nbgrader": {
     "grade": false,
     "grade_id": "cell-774188f42a59779a",
     "locked": true,
     "schema_version": 3,
     "solution": false,
     "task": false
    }
   },
   "source": [
    "Your friend Dumasse is an accountant. He creates a list, `revenue_2017`, to store his client's revenues for 2017. He then creates another list, `revenue_2018` to store his client's revenues for 2018. He knows that 2018 revenues are exactly 5% higher than 2017 revenues, and uses that information when creating his lists.\n",
    "\n",
    "The following cell contains Dumasse's code. When Dumasse runs the code, he is confused because the output incorrectly states 2017 revenues. What did he do wrong? Why are 2017 revenues incorrectly stated?\n",
    "\n",
    "Fix Dumasse's code.\n",
    "\n",
    "HINT: you do not need to add any new lines of code.\n",
    "HINT: you do not need to delete any lines of code.\n",
    "HINT: you only need to modify one line of code."
   ]
  },
  {
   "cell_type": "code",
   "execution_count": 6,
   "metadata": {
    "nbgrader": {
     "grade": false,
     "grade_id": "cell-5c6b0dcb48a78784",
     "locked": false,
     "schema_version": 3,
     "solution": true,
     "task": false
    }
   },
   "outputs": [
    {
     "name": "stdout",
     "output_type": "stream",
     "text": [
      "2017 revenue is $1,000. In 2018, revenues grew 5% to $1,050.\n"
     ]
    }
   ],
   "source": [
    "revenue_2017 = [1000]\n",
    "revenue_2018 = revenue_2017.copy()\n",
    "revenue_2018[0] = revenue_2018[0] * 1.05\n",
    "\n",
    "print(f'2017 revenue is ${revenue_2017[0]:,.0f}. In 2018, revenues grew 5% to ${revenue_2018[0]:,.0f}.')"
   ]
  },
  {
   "cell_type": "markdown",
   "metadata": {
    "nbgrader": {
     "grade": false,
     "grade_id": "cell-d66b01f5a3e64ae0",
     "locked": true,
     "schema_version": 3,
     "solution": false,
     "task": false
    }
   },
   "source": [
    "## Exercise 7"
   ]
  },
  {
   "cell_type": "markdown",
   "metadata": {
    "nbgrader": {
     "grade": false,
     "grade_id": "cell-e79496dfe03fc33d",
     "locked": true,
     "schema_version": 3,
     "solution": false,
     "task": false
    }
   },
   "source": [
    "You want to create a list of all the even numbers between 1 and 100 (i.e. 2, 4, 6, ..., 100). Your pseudocode is:\n",
    "```\n",
    "Initialize an empty list.\n",
    "\n",
    "Use a for loop and range to iterate from 2 to 100 in steps of 2.\n",
    "\n",
    "For each pass through the loop, append an even number to the end of the list.\n",
    "\n",
    "Print the list\n",
    "```\n",
    "\n",
    "We have written much of the code for you in the code cell below. Complete the code."
   ]
  },
  {
   "cell_type": "code",
   "execution_count": 5,
   "metadata": {
    "nbgrader": {
     "grade": false,
     "grade_id": "cell-dc431e0cc092d969",
     "locked": false,
     "schema_version": 3,
     "solution": true,
     "task": false
    }
   },
   "outputs": [
    {
     "name": "stdout",
     "output_type": "stream",
     "text": [
      "[2, 4, 6, 8, 10, 12, 14, 16, 18, 20, 22, 24, 26, 28, 30, 32, 34, 36, 38, 40, 42, 44, 46, 48, 50, 52, 54, 56, 58, 60, 62, 64, 66, 68, 70, 72, 74, 76, 78, 80, 82, 84, 86, 88, 90, 92, 94, 96, 98, 100]\n"
     ]
    }
   ],
   "source": [
    "evenNums = []\n",
    "for x in range(2,101,2):\n",
    "    # Write one line of code here\n",
    "    evenNums.append(x)\n",
    "    \n",
    "print(evenNums)"
   ]
  },
  {
   "cell_type": "code",
   "execution_count": null,
   "metadata": {},
   "outputs": [],
   "source": []
  }
 ],
 "metadata": {
  "celltoolbar": "Create Assignment",
  "kernelspec": {
   "display_name": "Python 3 (ipykernel)",
   "language": "python",
   "name": "python3"
  },
  "language_info": {
   "codemirror_mode": {
    "name": "ipython",
    "version": 3
   },
   "file_extension": ".py",
   "mimetype": "text/x-python",
   "name": "python",
   "nbconvert_exporter": "python",
   "pygments_lexer": "ipython3",
   "version": "3.9.5"
  }
 },
 "nbformat": 4,
 "nbformat_minor": 4
}
