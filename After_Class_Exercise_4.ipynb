{
 "cells": [
  {
   "cell_type": "markdown",
   "metadata": {},
   "source": [
    "# After-Class Exercises #4 for Wed, Sep. 8, 2021 class"
   ]
  },
  {
   "cell_type": "markdown",
   "metadata": {},
   "source": [
    "## Instructions"
   ]
  },
  {
   "cell_type": "markdown",
   "metadata": {},
   "source": [
    "Instead of using Compass, we are going to have you do today's exercises in a Jupyter notebook. Since this is a new format for our exercises, we ask that you follow these instructions exactly.\n",
    "\n",
    "1. For each problem, you will have to write (or modify) a single line of code. It's that easy! \n",
    "2. When you have completed all the exercises, save your notebook. Please rename it with your Net ID, e.g. *vanand.ipynb*, *kimendoz.ipynb*, *herbo.ipynb*.\n",
    "3. Upload your notebook to Compass.\n",
    "\n",
    "Please do not delete or add any cells. Enter your code under \"#write your code here\" or under the dashed line for exercise 4."
   ]
  },
  {
   "cell_type": "markdown",
   "metadata": {},
   "source": [
    "## Exercise 1: Converting between types"
   ]
  },
  {
   "cell_type": "markdown",
   "metadata": {},
   "source": [
    "Write a _single_ line of code that:\n",
    "* Creates a variable `x`\n",
    "* Sets the value of `x` to 7.5 times 2. Do not type `x = 15`.\n",
    "* Converts the result of the multiplication to an `int`\n",
    "\n",
    "Do not use a print statement. Just type a single line of code that creates `x` and then execute the cell."
   ]
  },
  {
   "cell_type": "code",
   "execution_count": 29,
   "metadata": {},
   "outputs": [],
   "source": [
    "x = int(7.5 * 2)\n"
   ]
  },
  {
   "cell_type": "markdown",
   "metadata": {},
   "source": [
    "## Exercise 2: Comparing two values"
   ]
  },
  {
   "cell_type": "markdown",
   "metadata": {},
   "source": [
    "Say the client's general ledger has an amount stored for a transaction. This amount is stored in the variable `recorded_amount`. You find an invoice for the transaction and store the invoice amount in the variable `invoice_amount`. \n",
    "\n",
    "You want to flag suspicious transactions. If the recorded amount does not match the invoice amount, the transaction is suspect. Your goal is to create a variable called `flagThisTransaction` whose value should be set to `True` if the recorded and invoice amounts do not match. It should be set to `False` if the amounts match.\n",
    "\n",
    "Complete the following code to create the variable `flagThisTransaction`. You do not need to print anything."
   ]
  },
  {
   "cell_type": "code",
   "execution_count": 5,
   "metadata": {},
   "outputs": [],
   "source": [
    "recorded_amount = 37826\n",
    "invoice_amount = 36482\n",
    "\n",
    "if recorded_amount != invoice_amount:\n",
    "    flagThisTransaction = True\n",
    "else:\n",
    "    flagThisTransaction = False\n"
   ]
  },
  {
   "cell_type": "markdown",
   "metadata": {},
   "source": [
    "## Exercise 3: Logical operators"
   ]
  },
  {
   "cell_type": "markdown",
   "metadata": {},
   "source": [
    "You work for a hedge fund and specialize in equities. You have decided on the following investment strategy. Your firm will invest in any equity security whose return over _either_ or _both_, of the previous two trading days is negative. The past two days' returns for a security are stored in the variables `day_minus1_return` and `day_minus2_return`.\n",
    "\n",
    "Complete the following code that implements your strategy. Create a variable named `shouldweInvest`; its value should be `True` if the return on either or both of the previous two days is negative, and `False` otherwise. Hint: there should be two conditions, separated by a logical operator."
   ]
  },
  {
   "cell_type": "code",
   "execution_count": 22,
   "metadata": {},
   "outputs": [],
   "source": [
    "day_minus1_return = 0.03\n",
    "day_minus2_return = -0.009\n",
    "\n",
    "if (day_minus1_return < 0) or (day_minus2_return < 0):\n",
    "    shouldweInvest = True\n",
    "else:\n",
    "    shouldweInvest = False\n"
   ]
  },
  {
   "cell_type": "markdown",
   "metadata": {},
   "source": [
    "## Exercise 4: Using parentheses to override operator precedence"
   ]
  },
  {
   "cell_type": "markdown",
   "metadata": {},
   "source": [
    "Add one set of parentheses to make the variable `y` equal to -10."
   ]
  },
  {
   "cell_type": "code",
   "execution_count": 24,
   "metadata": {},
   "outputs": [],
   "source": [
    "# FIX THE CODE UNDER THE DASHED LINE\n",
    "# ----------------------------------------------\n",
    "\n",
    "y = -(3 + 7)\n",
    "\n"
   ]
  },
  {
   "cell_type": "markdown",
   "metadata": {},
   "source": [
    "## Exercise 5: f-strings"
   ]
  },
  {
   "cell_type": "markdown",
   "metadata": {},
   "source": [
    "Create a variable `s` that contains the string `'ACCY 570 will last for 16 weeks and will be my favorite class this semester.'`. Use an f-string to create `s`; use all of the variables (i.e. `course_num`, `duration`, `ranking`) in the f-string."
   ]
  },
  {
   "cell_type": "code",
   "execution_count": 26,
   "metadata": {},
   "outputs": [],
   "source": [
    "course_num = 570\n",
    "duration = 16\n",
    "ranking = 'favorite'\n",
    "\n",
    "s = f\"ACCY {course_num} will last for {duration} weeks and will be my {ranking} class this semester.\"\n",
    "\n"
   ]
  },
  {
   "cell_type": "markdown",
   "metadata": {},
   "source": [
    "## Exercise 6: More f-strings"
   ]
  },
  {
   "cell_type": "markdown",
   "metadata": {},
   "source": [
    "Create a variable `myString` that contains the string `'4 times 7 equals 28.'` (notice there's a period at the end of the string). Use an f-string to create `myString`; use all of the variables (i.e `a` and `b`) in the f-string. Also, you should _compute_ the value 28 _inside_ the f-string by multiplying `a` and `b`."
   ]
  },
  {
   "cell_type": "code",
   "execution_count": 28,
   "metadata": {},
   "outputs": [],
   "source": [
    "a = 4\n",
    "b = 7\n",
    "\n",
    "myString = f\"{a} times {b} equals {a*b}.\"\n"
   ]
  }
 ],
 "metadata": {
  "kernelspec": {
   "display_name": "Python 3 (ipykernel)",
   "language": "python",
   "name": "python3"
  },
  "language_info": {
   "codemirror_mode": {
    "name": "ipython",
    "version": 3
   },
   "file_extension": ".py",
   "mimetype": "text/x-python",
   "name": "python",
   "nbconvert_exporter": "python",
   "pygments_lexer": "ipython3",
   "version": "3.9.5"
  }
 },
 "nbformat": 4,
 "nbformat_minor": 4
}
